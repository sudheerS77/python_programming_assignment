{
 "cells": [
  {
   "attachments": {},
   "cell_type": "markdown",
   "metadata": {},
   "source": [
    "<b>1. Write a Python program to find words which are greater than given length k?\n"
   ]
  },
  {
   "cell_type": "code",
   "execution_count": 8,
   "metadata": {},
   "outputs": [
    {
     "name": "stdout",
     "output_type": "stream",
     "text": [
      "executes\n",
      "without\n"
     ]
    }
   ],
   "source": [
    "s = 'Hello coding is fun if the code executes without erros'\n",
    "k=6\n",
    "for i in s.split():\n",
    "    if len(i) > k:\n",
    "        print(i)"
   ]
  },
  {
   "attachments": {},
   "cell_type": "markdown",
   "metadata": {},
   "source": [
    "<b>2. Write a Python program for removing i-th character from a string?\n"
   ]
  },
  {
   "cell_type": "code",
   "execution_count": 1,
   "metadata": {},
   "outputs": [
    {
     "name": "stdout",
     "output_type": "stream",
     "text": [
      "sudhers\n"
     ]
    }
   ],
   "source": [
    "s = 'sudheers'\n",
    "i=4\n",
    "print(s[:i]+s[i+1:])"
   ]
  },
  {
   "attachments": {},
   "cell_type": "markdown",
   "metadata": {},
   "source": [
    "<b>3. Write a Python program to split and join a string?\n"
   ]
  },
  {
   "cell_type": "code",
   "execution_count": 6,
   "metadata": {},
   "outputs": [
    {
     "name": "stdout",
     "output_type": "stream",
     "text": [
      "['ineuron', 'pwskills']\n",
      "ineuron-pwskills\n"
     ]
    }
   ],
   "source": [
    "s = 'ineuron pwskills'\n",
    "s1 =  s.split(' ')\n",
    "\n",
    "print(s1)\n",
    "print('-'.join(s1))"
   ]
  },
  {
   "attachments": {},
   "cell_type": "markdown",
   "metadata": {},
   "source": [
    "<b>4. Write a Python to check if a given string is binary string or not?\n"
   ]
  },
  {
   "cell_type": "code",
   "execution_count": 12,
   "metadata": {},
   "outputs": [
    {
     "name": "stdout",
     "output_type": "stream",
     "text": [
      "010101001 is a Binary String\n"
     ]
    }
   ],
   "source": [
    "s = \"010101001\"\n",
    "binary = '01'\n",
    "flag = False\n",
    "\n",
    "for i in s:\n",
    "    if i in binary:\n",
    "        pass\n",
    "    else:\n",
    "        flag = True\n",
    "\n",
    "if flag:\n",
    "    print(f'{s} is not a Binary String')\n",
    "else:\n",
    "    print(f'{s} is a Binary String')"
   ]
  },
  {
   "attachments": {},
   "cell_type": "markdown",
   "metadata": {},
   "source": [
    "<b>5. Write a Python program to find uncommon words from two Strings?\n"
   ]
  },
  {
   "cell_type": "code",
   "execution_count": 27,
   "metadata": {},
   "outputs": [
    {
     "name": "stdout",
     "output_type": "stream",
     "text": [
      "easy\n",
      "difficult\n"
     ]
    }
   ],
   "source": [
    "A = \"coding is easy\"\n",
    "B = \"coding is difficult\"\n",
    "a1 = A.split()\n",
    "b1 = B.split()\n",
    "\n",
    "for i in a1:\n",
    "    if i not in b1:\n",
    "        print(i)\n",
    "for j in b1:\n",
    "    if j not in a1:\n",
    "        print(j)\n",
    "\n"
   ]
  },
  {
   "attachments": {},
   "cell_type": "markdown",
   "metadata": {},
   "source": [
    "<b>6. Write a Python to find all duplicate characters in string?\n"
   ]
  },
  {
   "cell_type": "code",
   "execution_count": 34,
   "metadata": {},
   "outputs": [
    {
     "name": "stdout",
     "output_type": "stream",
     "text": [
      "l\n"
     ]
    }
   ],
   "source": [
    "from collections import Counter\n",
    "\n",
    "s = 'hello'\n",
    "c = Counter(s)\n",
    "\n",
    "for char, count in c.items():\n",
    "    if count > 1:\n",
    "        print(char)"
   ]
  },
  {
   "attachments": {},
   "cell_type": "markdown",
   "metadata": {},
   "source": [
    "<b>7. Write a Python Program to check if a string contains any special character?"
   ]
  },
  {
   "cell_type": "code",
   "execution_count": 36,
   "metadata": {},
   "outputs": [
    {
     "name": "stdout",
     "output_type": "stream",
     "text": [
      "String contains 2 special characters\n"
     ]
    }
   ],
   "source": [
    "spe = '[@_!#$%^&*()<>?/\\|}{~:]'\n",
    "s = 'hello!!'\n",
    "c = 0\n",
    "\n",
    "for i in s:\n",
    "    if i in spe:\n",
    "        c += 1\n",
    "if c>0:\n",
    "    print(f\"String contains {c} special characters\")"
   ]
  }
 ],
 "metadata": {
  "kernelspec": {
   "display_name": "Python 3",
   "language": "python",
   "name": "python3"
  },
  "language_info": {
   "codemirror_mode": {
    "name": "ipython",
    "version": 3
   },
   "file_extension": ".py",
   "mimetype": "text/x-python",
   "name": "python",
   "nbconvert_exporter": "python",
   "pygments_lexer": "ipython3",
   "version": "3.10.10"
  },
  "orig_nbformat": 4
 },
 "nbformat": 4,
 "nbformat_minor": 2
}
