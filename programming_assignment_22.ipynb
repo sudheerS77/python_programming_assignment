{
 "cells": [
  {
   "attachments": {},
   "cell_type": "markdown",
   "metadata": {},
   "source": [
    "- Question1\n",
    "\n",
    "<b> Create a function that takes three parameters where:\n",
    ">- x is the start of the range (inclusive).\n",
    ">- y is the end of the range (inclusive).\n",
    ">- n is the divisor to be checked against.\n",
    ">- Return an ordered list with numbers in the range that are divisible by the third parameter n.\n",
    ">- Return an empty list if there are no numbers that are divisible by n.\n",
    "\n",
    "- Examples\n",
    ">- list_operation(1, 10, 3) ➞ [3, 6, 9]\n",
    ">- list_operation(7, 9, 2) ➞ [8]\n",
    ">- list_operation(15, 20, 7) ➞ []"
   ]
  },
  {
   "cell_type": "code",
   "execution_count": 3,
   "metadata": {},
   "outputs": [
    {
     "name": "stdout",
     "output_type": "stream",
     "text": [
      "[3, 6, 9]\n",
      "[8]\n",
      "[]\n"
     ]
    }
   ],
   "source": [
    "def list_operation(s,e,d):\n",
    "    return [i for i in range(s,e) if i %d == 0]\n",
    "\n",
    "print(list_operation(1,10,3))\n",
    "print(list_operation(7,9,2))\n",
    "print(list_operation(15,20,7))"
   ]
  },
  {
   "attachments": {},
   "cell_type": "markdown",
   "metadata": {},
   "source": [
    "- Question2\n",
    "\n",
    "<b>Create a function that takes in two lists and returns True if the second list follows the first list\n",
    "by one element, and False otherwise. In other words, determine if the second list is the first\n",
    "list shifted to the right by 1.\n",
    "\n",
    "- Examples\n",
    ">- simon_says([1, 2], [5, 1]) ➞ True\n",
    ">- simon_says([1, 2], [5, 5]) ➞ False\n",
    ">- simon_says([1, 2, 3, 4, 5], [0, 1, 2, 3, 4]) ➞ True\n",
    ">- simon_says([1, 2, 3, 4, 5], [5, 5, 1, 2, 3]) ➞ False\n",
    "\n",
    "- Notes\n",
    ">-  Both input lists will be of the same length, and will have a minimum length of 2.\n",
    ">- The values of the 0-indexed element in the second list and the n-1th indexed element\n",
    "in the first list do not matter."
   ]
  },
  {
   "cell_type": "code",
   "execution_count": 31,
   "metadata": {},
   "outputs": [
    {
     "name": "stdout",
     "output_type": "stream",
     "text": [
      "True\n",
      "False\n",
      "True\n",
      "False\n"
     ]
    }
   ],
   "source": [
    "def simon_says(arr1, arr2):\n",
    "    n = len(arr1)\n",
    "    for i in range(1, n):\n",
    "        if arr2[i] == arr1[i-1]:    \n",
    "            pass \n",
    "        else:\n",
    "            return False\n",
    "    return True\n",
    "\n",
    "print(simon_says([1,2], [5,1]))\n",
    "print(simon_says([1,2], [5,5]))\n",
    "print(simon_says([1,2, 3,4,5], [0,1,2,3,4]))\n",
    "print(simon_says([1,2, 3,4,5], [5,5,1,2,3]))"
   ]
  },
  {
   "attachments": {},
   "cell_type": "markdown",
   "metadata": {},
   "source": [
    "- Question3\n",
    "\n",
    "<b>A group of friends have decided to start a secret society. The name will be the first letter of\n",
    "each of their names, sorted in alphabetical order.\n",
    "> Create a function that takes in a list of names and returns the name of the secret society.\n",
    "\n",
    "- Examples\n",
    ">- society_name([&quot;Adam&quot;, &quot;Sarah&quot;, &quot;Malcolm&quot;]) ➞ &quot;AMS&quot;\n",
    ">- society_name([&quot;Harry&quot;, &quot;Newt&quot;, &quot;Luna&quot;, &quot;Cho&quot;]) ➞ &quot;CHLN&quot;\n",
    ">- society_name([&quot;Phoebe&quot;, &quot;Chandler&quot;, &quot;Rachel&quot;, &quot;Ross&quot;, &quot;Monica&quot;, &quot;Joey&quot;])"
   ]
  },
  {
   "cell_type": "code",
   "execution_count": 9,
   "metadata": {},
   "outputs": [
    {
     "name": "stdout",
     "output_type": "stream",
     "text": [
      "AMS\n",
      "CHLN\n",
      "CJMPRR\n"
     ]
    }
   ],
   "source": [
    "def society_name(n):\n",
    "    secret = \"\"\n",
    "    for i in n:\n",
    "        secret += i[0]\n",
    "    \n",
    "    return \"\".join(sorted(secret))\n",
    "\n",
    "print(society_name([\"Adam\", \"Sarah\", \"Malcolm\"]))\n",
    "print(society_name([\"Harry\", \"Newt\", \"Luna\", \"Cho\"]))\n",
    "print(society_name([\"Phoebe\", \"Chandler\", \"Rachel\", \"Ross\", \"Monica\", \"Joey\"]))"
   ]
  },
  {
   "attachments": {},
   "cell_type": "markdown",
   "metadata": {},
   "source": [
    "- Question4\n",
    "\n",
    "<b> An isogram is a word that has no duplicate letters. Create a function that takes a string and\n",
    "returns either True or False depending on whether or not it&#39;s an &quot;isogram&quot;.\n",
    "\n",
    "- Examples\n",
    ">- is_isogram(&quot;Algorism&quot;) ➞ True\n",
    ">- is_isogram(&quot;PasSword&quot;) ➞ False\n",
    ">- \\# Not case sensitive.\n",
    ">- is_isogram(&quot;Consecutive&quot;) ➞ False\n",
    "- Notes\n",
    ">- Ignore letter case (should not be case sensitive).\n",
    ">- All test cases contain valid one word strings."
   ]
  },
  {
   "cell_type": "code",
   "execution_count": 18,
   "metadata": {},
   "outputs": [
    {
     "name": "stdout",
     "output_type": "stream",
     "text": [
      "True\n",
      "False\n",
      "False\n"
     ]
    }
   ],
   "source": [
    "def is_isogram(s):\n",
    "    res = \"\"\n",
    "    for i in s:\n",
    "        if i in res:            \n",
    "            return False\n",
    "        else:            \n",
    "            res = res+i.lower()\n",
    "    return True\n",
    "\n",
    "print(is_isogram(\"Algorithm\"))\n",
    "print(is_isogram(\"Password\"))\n",
    "print(is_isogram(\"Consecutive\"))"
   ]
  },
  {
   "attachments": {},
   "cell_type": "markdown",
   "metadata": {},
   "source": [
    "- Question5\n",
    "\n",
    "<b>Create a function that takes a string and returns True or False, depending on whether the\n",
    "characters are in order or not.\n",
    "\n",
    "- Examples\n",
    ">- is_in_order(&quot;abc&quot;) ➞ True\n",
    ">- is_in_order(&quot;edabit&quot;) ➞ False\n",
    ">- is_in_order(&quot;123&quot;) ➞ True\n",
    ">- is_in_order(&quot;xyzz&quot;) ➞ True\n",
    "\n",
    "- Notes\n",
    ">- You don&#39;t have to handle empty strings."
   ]
  },
  {
   "cell_type": "code",
   "execution_count": 22,
   "metadata": {},
   "outputs": [
    {
     "name": "stdout",
     "output_type": "stream",
     "text": [
      "True\n",
      "False\n",
      "True\n",
      "True\n"
     ]
    }
   ],
   "source": [
    "def is_in_order(s):\n",
    "    c = [i for i in s]\n",
    "    c.sort()\n",
    "    for i in range(len(s)):\n",
    "        if s[i] != c[i]:\n",
    "            return False\n",
    "    return True\n",
    "\n",
    "print(is_in_order(\"abc\"))\n",
    "print(is_in_order(\"edabit\"))\n",
    "print(is_in_order(\"123\"))\n",
    "print(is_in_order(\"xyzz\"))"
   ]
  }
 ],
 "metadata": {
  "kernelspec": {
   "display_name": "Python 3",
   "language": "python",
   "name": "python3"
  },
  "language_info": {
   "codemirror_mode": {
    "name": "ipython",
    "version": 3
   },
   "file_extension": ".py",
   "mimetype": "text/x-python",
   "name": "python",
   "nbconvert_exporter": "python",
   "pygments_lexer": "ipython3",
   "version": "3.10.10"
  },
  "orig_nbformat": 4
 },
 "nbformat": 4,
 "nbformat_minor": 2
}
