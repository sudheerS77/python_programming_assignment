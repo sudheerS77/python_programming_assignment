{
 "cells": [
  {
   "attachments": {},
   "cell_type": "markdown",
   "metadata": {},
   "source": [
    "- Question1\n",
    "<b>Create a function that takes a string and returns a string in which each character is repeated\n",
    "once.\n",
    "- Examples\n",
    ">- double_char(&quot;String&quot;) ➞ &quot;SSttrriinngg&quot;\n",
    ">- double_char(&quot;Hello World!&quot;) ➞ &quot;HHeelllloo WWoorrlldd!!&quot;\n",
    ">- double_char(&quot;1234!_ &quot;) ➞ &quot;11223344!!__ &quot;"
   ]
  },
  {
   "cell_type": "code",
   "execution_count": 1,
   "metadata": {},
   "outputs": [
    {
     "name": "stdout",
     "output_type": "stream",
     "text": [
      "SSttrriinngg\n"
     ]
    }
   ],
   "source": [
    "def double_char(s):\n",
    "    res = \"\"\n",
    "    for i in s:\n",
    "        res += i*2\n",
    "    return res\n",
    "print(double_char(\"String\"))"
   ]
  },
  {
   "attachments": {},
   "cell_type": "markdown",
   "metadata": {},
   "source": [
    "- Question2\n",
    "\n",
    "<b>Create a function that reverses a boolean value and returns the string &quot;boolean expected&quot;\n",
    " if another variable type is given.\n",
    "\n",
    "- Examples\n",
    ">- reverse(True) ➞ False\n",
    ">- reverse(False) ➞ True\n",
    ">- reverse(0) ➞ &quot;boolean expected&quot;\n",
    ">- reverse(None) ➞ &quot;boolean expected&quot;"
   ]
  },
  {
   "cell_type": "code",
   "execution_count": 6,
   "metadata": {},
   "outputs": [
    {
     "name": "stdout",
     "output_type": "stream",
     "text": [
      "False\n",
      "True\n",
      "boolean expected\n",
      "boolean expected\n"
     ]
    }
   ],
   "source": [
    "def reverse(n):    \n",
    "    if type(n) == bool:\n",
    "        return not n\n",
    "    return \"boolean expected\"\n",
    "print(reverse(True))\n",
    "print(reverse(False))\n",
    "print(reverse(0))\n",
    "print(reverse(None))"
   ]
  },
  {
   "attachments": {},
   "cell_type": "markdown",
   "metadata": {},
   "source": [
    "- Question3\n",
    "\n",
    "<b>Create a function that returns the thickness (in meters) of a piece of paper after folding it n\n",
    "number of times. The paper starts off with a thickness of 0.5mm.\n",
    "- Examples\n",
    ">- num_layers(1) ➞ &quot;0.001m&quot;\n",
    ">- \\# Paper folded once is 1mm (equal to 0.001m)\n",
    ">- num_layers(4) ➞ &quot;0.008m&quot;\n",
    ">- \\# Paper folded 4 times is 8mm (equal to 0.008m)\n",
    ">- num_layers(21) ➞ &quot;1048.576m&quot;\n",
    ">- \\# Paper folded 21 times is 1048576mm (equal to 1048.576m)"
   ]
  },
  {
   "cell_type": "code",
   "execution_count": 10,
   "metadata": {},
   "outputs": [
    {
     "name": "stdout",
     "output_type": "stream",
     "text": [
      "0.001\n",
      "0.008\n",
      "1048.576\n"
     ]
    }
   ],
   "source": [
    "def num_layers(n):\n",
    "    res = 0.5\n",
    "    for _ in range(n):\n",
    "        res *= 2\n",
    "    return res/1000\n",
    "\n",
    "print(num_layers(1))\n",
    "print(num_layers(4))\n",
    "print(num_layers(21))"
   ]
  },
  {
   "cell_type": "markdown",
   "metadata": {},
   "source": [
    "- Question4\n",
    "\n",
    "<b>Create a function that takes a single string as argument and returns an ordered list containing\n",
    "the indices of all capital letters in the string.\n",
    "- Examples\n",
    ">- index_of_caps(&quot;eDaBiT&quot;) ➞ [1, 3, 5]\n",
    ">- index_of_caps(&quot;eQuINoX&quot;) ➞ [1, 3, 4, 6]\n",
    ">- index_of_caps(&quot;determine&quot;) ➞ []\n",
    ">- index_of_caps(&quot;STRIKE&quot;) ➞ [0, 1, 2, 3, 4, 5]\n",
    ">- index_of_caps(&quot;sUn&quot;) ➞ [1]"
   ]
  },
  {
   "cell_type": "code",
   "execution_count": 19,
   "metadata": {},
   "outputs": [
    {
     "name": "stdout",
     "output_type": "stream",
     "text": [
      "[1, 3, 5]\n",
      "[1, 3, 4, 6]\n"
     ]
    }
   ],
   "source": [
    "def index_of_caps(s):\n",
    "    res = []\n",
    "    for i in s:\n",
    "        if i.isupper():\n",
    "            res.append(s.index(i))\n",
    "    return res\n",
    "print(index_of_caps(\"eDaBiT\"))\n",
    "print(index_of_caps(\"eQuLNoX\"))"
   ]
  },
  {
   "attachments": {},
   "cell_type": "markdown",
   "metadata": {},
   "source": [
    "- Question5\n",
    "<b>Using list comprehensions, create a function that finds all even numbers from 1 to the given\n",
    "number.\n",
    "- Examples\n",
    ">- find_even_nums(8) ➞ [2, 4, 6, 8]\n",
    ">- find_even_nums(4) ➞ [2, 4]\n",
    ">- find_even_nums(2) ➞ [2]"
   ]
  },
  {
   "cell_type": "code",
   "execution_count": 25,
   "metadata": {},
   "outputs": [
    {
     "name": "stdout",
     "output_type": "stream",
     "text": [
      "[2, 4, 6, 8]\n",
      "[2, 4]\n",
      "[2]\n"
     ]
    }
   ],
   "source": [
    "def find_even_nums(n):\n",
    "    return [i  for i in range(1,n+1) if i%2 == 0]\n",
    "print(find_even_nums(8))\n",
    "print(find_even_nums(4))\n",
    "print(find_even_nums(2))"
   ]
  }
 ],
 "metadata": {
  "kernelspec": {
   "display_name": "Python 3",
   "language": "python",
   "name": "python3"
  },
  "language_info": {
   "codemirror_mode": {
    "name": "ipython",
    "version": 3
   },
   "file_extension": ".py",
   "mimetype": "text/x-python",
   "name": "python",
   "nbconvert_exporter": "python",
   "pygments_lexer": "ipython3",
   "version": "3.10.10"
  },
  "orig_nbformat": 4
 },
 "nbformat": 4,
 "nbformat_minor": 2
}
