{
 "cells": [
  {
   "attachments": {},
   "cell_type": "markdown",
   "metadata": {},
   "source": [
    "<b> Question1. Create a function that takes three arguments a, b, c and returns the sum of the\n",
    "numbers that are evenly divided by c from the range a, b inclusive.\n",
    "\n",
    "> Examples\n",
    ">- evenly_divisible(1, 10, 20) ➞ 0\n",
    ">- \\# No number between 1 and 10 can be evenly divided by 20.\n",
    ">- evenly_divisible(1, 10, 2) ➞ 30\n",
    ">- \\# 2 + 4 + 6 + 8 + 10 = 30\n",
    ">- evenly_divisible(1, 10, 3) ➞ 18\n",
    ">- \\# 3 + 6 + 9 = 18"
   ]
  },
  {
   "cell_type": "code",
   "execution_count": 5,
   "metadata": {},
   "outputs": [
    {
     "name": "stdout",
     "output_type": "stream",
     "text": [
      "a = 1 \n",
      "b = 10 \n",
      "c=3 \n",
      "sum = 18\n"
     ]
    }
   ],
   "source": [
    "a, b, c = (input(\"Enter a,b,c values\")).split()\n",
    "sum = 0\n",
    "for i in range(int(a),int(b)):\n",
    "    if i%int(c) == 0:\n",
    "        sum +=i\n",
    "print(f\"a = {a} \\nb = {b} \\nc={c} \\nsum = {sum}\")"
   ]
  },
  {
   "attachments": {},
   "cell_type": "markdown",
   "metadata": {},
   "source": [
    "<b> Question2. Create a function that returns True if a given inequality expression is correct and\n",
    "False otherwise.\n",
    "\n",
    "- Examples\n",
    ">- correct_signs(&quot;3 &lt; 7 &lt; 11&quot;) ➞ True\n",
    ">- correct_signs(&quot;13 &gt; 44 &gt; 33 &gt; 1&quot;) ➞ False\n",
    ">- correct_signs(&quot;1 &lt; 2 &lt; 6 &lt; 9 &gt; 3&quot;) ➞ True"
   ]
  },
  {
   "cell_type": "code",
   "execution_count": 9,
   "metadata": {},
   "outputs": [
    {
     "name": "stdout",
     "output_type": "stream",
     "text": [
      "True\n",
      "False\n",
      "True\n"
     ]
    }
   ],
   "source": [
    "def correct_signs(s):\n",
    "    exp = eval(s)\n",
    "    if exp:\n",
    "        return True\n",
    "    else:\n",
    "        return False\n",
    "    \n",
    "print(correct_signs(\"3 < 7 < 11\"))\n",
    "print(correct_signs(\"13 > 44 > 33 > 1\"))\n",
    "print(correct_signs(\"1 < 2 < 6 < 9 > 3\"))"
   ]
  },
  {
   "attachments": {},
   "cell_type": "markdown",
   "metadata": {},
   "source": [
    "<b>Question3. Create a function that replaces all the vowels in a string with a specified character.\n",
    "\n",
    "- Examples\n",
    ">- replace_vowels(&quot;the aardvark&quot;, &quot;#&quot;) ➞ &quot;th# ##rdv#rk&quot;\n",
    ">- replace_vowels(&quot;minnie mouse&quot;, &quot;?&quot;) ➞ &quot;m?nn?? m??s?&quot;\n",
    ">- replace_vowels(&quot;shakespeare&quot;, &quot;*&quot;) ➞ &quot;sh*k*sp**r*&quot;"
   ]
  },
  {
   "cell_type": "code",
   "execution_count": 26,
   "metadata": {},
   "outputs": [
    {
     "name": "stdout",
     "output_type": "stream",
     "text": [
      "th# ##rdv#rk\n",
      "m?nn?? m??s?\n"
     ]
    }
   ],
   "source": [
    "def replace_vowels(s, symbol):\n",
    "    vowels = \"AEIOUaeiou\"\n",
    "    for i in s:\n",
    "        if i in vowels:\n",
    "            s = s.replace(i, symbol)\n",
    "    print(s)\n",
    "\n",
    "replace_vowels(\"the aardvark\", \"#\")\n",
    "replace_vowels(\"minnie mouse\", \"?\")"
   ]
  },
  {
   "attachments": {},
   "cell_type": "markdown",
   "metadata": {},
   "source": [
    "<b> Question4. Write a function that calculates the factorial of a number recursively.\n",
    "\n",
    "- Examples\n",
    ">- factorial(5) ➞ 120\n",
    ">- factorial(3) ➞ 6\n",
    ">- factorial(1) ➞ 1\n",
    ">- factorial(0) ➞ 1"
   ]
  },
  {
   "cell_type": "code",
   "execution_count": 2,
   "metadata": {},
   "outputs": [
    {
     "name": "stdout",
     "output_type": "stream",
     "text": [
      "120\n",
      "6\n",
      "1\n",
      "1\n"
     ]
    }
   ],
   "source": [
    "def factorial(n):\n",
    "    if n <= 1:\n",
    "        return 1\n",
    "    else:\n",
    "        return n*factorial(n-1)\n",
    "print(factorial(5))\n",
    "print(factorial(3))\n",
    "print(factorial(1))\n",
    "print(factorial(0))"
   ]
  },
  {
   "attachments": {},
   "cell_type": "markdown",
   "metadata": {},
   "source": [
    "- Question 5\n",
    "<b> Hamming distance is the number of characters that differ between two strings.\n",
    ">To illustrate:\n",
    ">- String1: &quot;abcbba&quot;\n",
    ">- String2: &quot;abcbda&quot;\n",
    ">- Hamming Distance: 1 - &quot;b&quot; vs. &quot;d&quot; is the only difference.\n",
    ">- Create a function that computes the hamming distance between two strings.\n",
    "\n",
    "- Examples\n",
    ">- hamming_distance(&quot;abcde&quot;, &quot;bcdef&quot;) ➞ 5\n",
    ">- hamming_distance(&quot;abcde&quot;, &quot;abcde&quot;) ➞ 0\n",
    ">- hamming_distance(&quot;strong&quot;, &quot;strung&quot;) ➞ 1"
   ]
  },
  {
   "cell_type": "code",
   "execution_count": 4,
   "metadata": {},
   "outputs": [
    {
     "name": "stdout",
     "output_type": "stream",
     "text": [
      "5\n"
     ]
    }
   ],
   "source": [
    "def hammingDist(str1, str2):\n",
    "\ti = 0\n",
    "\tcount = 0\n",
    "\n",
    "\twhile(i < len(str1)):\n",
    "\t\tif(str1[i] != str2[i]):\n",
    "\t\t\tcount += 1\n",
    "\t\ti += 1\n",
    "\treturn count\n",
    "\n",
    "print(hammingDist(\"abcde\", \"bcdef\"))\n"
   ]
  }
 ],
 "metadata": {
  "kernelspec": {
   "display_name": "Python 3",
   "language": "python",
   "name": "python3"
  },
  "language_info": {
   "codemirror_mode": {
    "name": "ipython",
    "version": 3
   },
   "file_extension": ".py",
   "mimetype": "text/x-python",
   "name": "python",
   "nbconvert_exporter": "python",
   "pygments_lexer": "ipython3",
   "version": "3.10.10"
  },
  "orig_nbformat": 4
 },
 "nbformat": 4,
 "nbformat_minor": 2
}
