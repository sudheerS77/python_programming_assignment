{
 "cells": [
  {
   "attachments": {},
   "cell_type": "markdown",
   "metadata": {},
   "source": [
    "<b> Question1. Write a function that stutters a word as if someone is struggling to read it. The\n",
    "first two letters are repeated twice with an ellipsis ... and space after each, and then the\n",
    "word is pronounced with a question mark ?.\n",
    "\n",
    "- Examples\n",
    ">- stutter(&quot;incredible&quot;) ➞ &quot;in... in... incredible?&quot;\n",
    ">- stutter(&quot;enthusiastic&quot;) ➞ &quot;en... en... enthusiastic?&quot;\n",
    ">- stutter(&quot;outstanding&quot;) ➞ &quot;ou... ou... outstanding?&quot;\n",
    "\n",
    ">- Hint :- Assume all input is in lower case and at least two characters long."
   ]
  },
  {
   "cell_type": "code",
   "execution_count": 3,
   "metadata": {},
   "outputs": [
    {
     "name": "stdout",
     "output_type": "stream",
     "text": [
      "in...in...incredible?\n"
     ]
    }
   ],
   "source": [
    "text = \"incredible\"\n",
    "\n",
    "print(2*(text[:2] + '...') + text +\"?\")"
   ]
  },
  {
   "attachments": {},
   "cell_type": "markdown",
   "metadata": {},
   "source": [
    "<b> Question 2.Create a function that takes an angle in radians and returns the corresponding\n",
    "angle in degrees rounded to one decimal place.\n",
    "\n",
    "- Examples\n",
    ">- radians_to_degrees(1) ➞ 57.3\n",
    ">- radians_to_degrees(20) ➞ 1145.9\n",
    ">- radians_to_degrees(50) ➞ 2864.8"
   ]
  },
  {
   "cell_type": "code",
   "execution_count": 8,
   "metadata": {},
   "outputs": [
    {
     "name": "stdout",
     "output_type": "stream",
     "text": [
      "57.3\n",
      "1145.9\n",
      "2864.8\n"
     ]
    }
   ],
   "source": [
    "import math\n",
    "\n",
    "def radian_to_degress(n):\n",
    "    print(round((n * (180 /math.pi)), 1))\n",
    "\n",
    "radian_to_degress(1)\n",
    "radian_to_degress(20)\n",
    "radian_to_degress(50)"
   ]
  },
  {
   "attachments": {},
   "cell_type": "markdown",
   "metadata": {},
   "source": [
    "<b> Question 3. In this challenge, establish if a given integer num is a Curzon number. If 1 plus\n",
    "2 elevated to num is exactly divisible by 1 plus 2 multiplied by num, then num is a Curzon\n",
    "number.\n",
    "\n",
    "<b> Given a non-negative integer num, implement a function that returns True if num is a Curzon\n",
    "number, or False otherwise.\n",
    "\n",
    "- Examples\n",
    "\n",
    ">- is_curzon(5) ➞ True\n",
    ">- 2 ** 5 + 1 = 33\n",
    ">- 2 * 5 + 1 = 11\n",
    ">- 33 is a multiple of 11\n",
    "\n",
    ">- is_curzon(10) ➞ False\n",
    ">- 2 ** 10 + 1 = 1025\n",
    ">- 2 * 10 + 1 = 21\n",
    ">- 1025 is not a multiple of 21\n",
    "\n",
    ">- is_curzon(14) ➞ True\n",
    ">- 2 ** 14 + 1 = 16385\n",
    ">- 2 * 14 + 1 = 29\n",
    ">- 16385 is a multiple of 29"
   ]
  },
  {
   "cell_type": "code",
   "execution_count": 9,
   "metadata": {},
   "outputs": [
    {
     "name": "stdout",
     "output_type": "stream",
     "text": [
      "Yes\n",
      "No\n"
     ]
    }
   ],
   "source": [
    "def checkIfCurzonNumber(N):\n",
    "\tpowerTerm, productTerm = 0, 0\n",
    "\tpowerTerm = pow(2, N) + 1\n",
    "\tproductTerm = 2 * N + 1\n",
    "\tif (powerTerm % productTerm == 0):\n",
    "\t\tprint(\"True\")\n",
    "\telse:\n",
    "\t\tprint(\"False\")\n",
    "N = 5\n",
    "checkIfCurzonNumber(N)\n",
    "N = 10\n",
    "checkIfCurzonNumber(N)\n"
   ]
  },
  {
   "attachments": {},
   "cell_type": "markdown",
   "metadata": {},
   "source": [
    "<b>Question 4.Given the side length x find the area of a hexagon.\n",
    "\n",
    "- Examples\n",
    "\n",
    ">- area_of_hexagon(1) ➞ 2.6\n",
    ">- area_of_hexagon(2) ➞ 10.4\n",
    ">- area_of_hexagon(3) ➞ 23.4"
   ]
  },
  {
   "cell_type": "code",
   "execution_count": 14,
   "metadata": {},
   "outputs": [
    {
     "name": "stdout",
     "output_type": "stream",
     "text": [
      "2.6\n",
      "10.4\n",
      "23.4\n"
     ]
    }
   ],
   "source": [
    "import math\n",
    "def area_of_hexagon(n):\n",
    "    a = 3*(math.sqrt(3))*(n**2) / 2\n",
    "    print(round(a, 1))\n",
    "\n",
    "area_of_hexagon(1)\n",
    "area_of_hexagon(2)\n",
    "area_of_hexagon(3)"
   ]
  },
  {
   "attachments": {},
   "cell_type": "markdown",
   "metadata": {},
   "source": [
    "<b> Question 5. Create a function that returns a base-2 (binary) representation of a base-10\n",
    "(decimal) string number. To convert is simple: ((2) means base-2 and (10) means base-10)\n",
    "010101001(2) = 1 + 8 + 32 + 128.\n",
    "\n",
    "> Going from right to left, the value of the most right bit is 1, now from that every bit to the left\n",
    "will be x2 the value, value of an 8 bit binary numbers are (256, 128, 64, 32, 16, 8, 4, 2, 1).\n",
    "\n",
    "> Examples\n",
    ">- binary(1) ➞ \"1\"\n",
    ">- 1*1 = 1\n",
    ">- binary(5) ➞ \"101\"\n",
    ">- 1*1 + 1*4 = 5\n",
    ">- binary(10) ➞ \"1010\"\n",
    ">- 1*2 + 1*8 = 10"
   ]
  },
  {
   "cell_type": "code",
   "execution_count": 20,
   "metadata": {},
   "outputs": [
    {
     "name": "stdout",
     "output_type": "stream",
     "text": [
      "0b1\n",
      "0b101\n",
      "0b1010\n"
     ]
    }
   ],
   "source": [
    "print(bin(1))\n",
    "print(bin(5))\n",
    "print(bin(10))\n"
   ]
  }
 ],
 "metadata": {
  "kernelspec": {
   "display_name": "Python 3",
   "language": "python",
   "name": "python3"
  },
  "language_info": {
   "codemirror_mode": {
    "name": "ipython",
    "version": 3
   },
   "file_extension": ".py",
   "mimetype": "text/x-python",
   "name": "python",
   "nbconvert_exporter": "python",
   "pygments_lexer": "ipython3",
   "version": "3.10.10"
  },
  "orig_nbformat": 4
 },
 "nbformat": 4,
 "nbformat_minor": 2
}
