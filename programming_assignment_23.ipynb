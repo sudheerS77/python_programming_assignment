{
 "cells": [
  {
   "attachments": {},
   "cell_type": "markdown",
   "metadata": {},
   "source": [
    "- Question 1\n",
    "\n",
    "<b>Create a function that takes a number as an argument and returns True or False depending\n",
    "on whether the number is symmetrical or not. A number is symmetrical when it is the same as\n",
    "its reverse.\n",
    "\n",
    "- Examples\n",
    ">- is_symmetrical(7227) ➞ True\n",
    ">- is_symmetrical(12567) ➞ False\n",
    ">- is_symmetrical(44444444) ➞ True\n",
    ">- is_symmetrical(9939) ➞ False\n",
    ">- is_symmetrical(1112111) ➞ True"
   ]
  },
  {
   "cell_type": "code",
   "execution_count": 15,
   "metadata": {},
   "outputs": [
    {
     "name": "stdout",
     "output_type": "stream",
     "text": [
      "True\n",
      "False\n",
      "True\n",
      "False\n",
      "True\n"
     ]
    }
   ],
   "source": [
    "def is_symmetrical(n):\n",
    "    n1 = str(n)[::-1]\n",
    "    if n == int(n1):\n",
    "        return True\n",
    "    return False\n",
    "\n",
    "print(is_symmetrical(7227))\n",
    "print(is_symmetrical(12567))\n",
    "print(is_symmetrical(444444))\n",
    "print(is_symmetrical(9939))\n",
    "print(is_symmetrical(1112111))"
   ]
  },
  {
   "attachments": {},
   "cell_type": "markdown",
   "metadata": {},
   "source": [
    "- Question 25\n",
    "\n",
    "<b>Given a string of numbers separated by a comma and space, return the product of the\n",
    "numbers.\n",
    "\n",
    "- Examples\n",
    ">- multiply_nums(&quot;2, 3&quot;) ➞ 6\n",
    ">- multiply_nums(&quot;1, 2, 3, 4&quot;) ➞ 24\n",
    ">- multiply_nums(&quot;54, 75, 453, 0&quot;) ➞ 0\n",
    ">- multiply_nums(&quot;10, -2&quot;) ➞ -20"
   ]
  },
  {
   "cell_type": "code",
   "execution_count": 22,
   "metadata": {},
   "outputs": [
    {
     "name": "stdout",
     "output_type": "stream",
     "text": [
      "6\n",
      "24\n",
      "0\n",
      "-20\n"
     ]
    }
   ],
   "source": [
    "def multiply_nums(s):\n",
    "    sum = 1\n",
    "    s = s.split(\",\")\n",
    "    for i in s:\n",
    "        sum *= int(i)\n",
    "\n",
    "    return sum\n",
    "\n",
    "print(multiply_nums(\"2,3\"))\n",
    "print(multiply_nums(\"1,2,3, 4\"))\n",
    "print(multiply_nums(\"54,75,453,0\"))\n",
    "print(multiply_nums(\"10, -2\"))"
   ]
  },
  {
   "attachments": {},
   "cell_type": "markdown",
   "metadata": {},
   "source": [
    "- Question 3\n",
    "\n",
    "<b>Create a function that squares every digit of a number.\n",
    "\n",
    "- Examples\n",
    ">- square_digits(9119) ➞ 811181\n",
    ">- square_digits(2483) ➞ 416649\n",
    ">- square_digits(3212) ➞ 9414\n",
    "- Notes\n",
    ">- The function receives an integer and must return an integer."
   ]
  },
  {
   "cell_type": "code",
   "execution_count": 29,
   "metadata": {},
   "outputs": [
    {
     "name": "stdout",
     "output_type": "stream",
     "text": [
      "811181\n",
      "416649\n",
      "9414\n"
     ]
    }
   ],
   "source": [
    "def square_digits(n):\n",
    "    s = str(n)\n",
    "    sum = ''\n",
    "    for i in s:\n",
    "        sum += str(int(i) *int(i))\n",
    "    print(sum)\n",
    "\n",
    "square_digits(9119)\n",
    "square_digits(2483)\n",
    "square_digits(3212)"
   ]
  },
  {
   "attachments": {},
   "cell_type": "markdown",
   "metadata": {},
   "source": [
    "- Question 4\n",
    "\n",
    "<b>Create a function that sorts a list and removes all duplicate items from it.\n",
    "- Examples\n",
    ">- setify([1, 3, 3, 5, 5]) ➞ [1, 3, 5]\n",
    ">- setify([4, 4, 4, 4]) ➞ [4]\n",
    ">- setify([5, 7, 8, 9, 10, 15]) ➞ [5, 7, 8, 9, 10, 15]\n",
    ">- setify([3, 3, 3, 2, 1]) ➞ [1, 2, 3]"
   ]
  },
  {
   "cell_type": "code",
   "execution_count": 35,
   "metadata": {},
   "outputs": [
    {
     "name": "stdout",
     "output_type": "stream",
     "text": [
      "[1, 3, 5]\n",
      "[4]\n",
      "[5, 7, 8, 9, 10, 15]\n",
      "[1, 2, 3]\n"
     ]
    }
   ],
   "source": [
    "def setify(n):\n",
    "    n.sort()\n",
    "    res = []\n",
    "    for i in n:\n",
    "        if i not in res:\n",
    "            res.append(i)    \n",
    "    print(res)\n",
    "\n",
    "setify([1,3,3,5,5])\n",
    "setify([4,4,4,4])\n",
    "setify([5,7,8,9,10,15])\n",
    "setify([3,3,3,2,1])"
   ]
  },
  {
   "attachments": {},
   "cell_type": "markdown",
   "metadata": {},
   "source": [
    "- Question 5\n",
    "\n",
    "<b>Create a function that returns the mean of all digits.\n",
    "\n",
    "- Examples\n",
    "\n",
    ">- mean(42) ➞ 3\n",
    ">- mean(12345) ➞ 3\n",
    ">- mean(666) ➞ 6\n",
    "\n",
    "- Notes\n",
    ">-  The mean of all digits is the sum of digits / how many digits there are (e.g. mean of digits in\n",
    "512 is (5+1+2)/3(number of digits) = 8/3=2).\n",
    ">-  The mean will always be an integer."
   ]
  },
  {
   "cell_type": "code",
   "execution_count": 6,
   "metadata": {},
   "outputs": [
    {
     "name": "stdout",
     "output_type": "stream",
     "text": [
      "3\n",
      "3\n",
      "6\n"
     ]
    }
   ],
   "source": [
    "\n",
    "def mean(n):\n",
    "    d = str(n)\n",
    "    sum = 0\n",
    "    for i in d:\n",
    "        sum += int(i)\n",
    "    return round(sum / len(d))\n",
    "\n",
    "print(mean(42))\n",
    "print(mean(12345))\n",
    "print(mean(666))\n",
    "    "
   ]
  }
 ],
 "metadata": {
  "kernelspec": {
   "display_name": "Python 3",
   "language": "python",
   "name": "python3"
  },
  "language_info": {
   "codemirror_mode": {
    "name": "ipython",
    "version": 3
   },
   "file_extension": ".py",
   "mimetype": "text/x-python",
   "name": "python",
   "nbconvert_exporter": "python",
   "pygments_lexer": "ipython3",
   "version": "3.10.10"
  },
  "orig_nbformat": 4
 },
 "nbformat": 4,
 "nbformat_minor": 2
}
