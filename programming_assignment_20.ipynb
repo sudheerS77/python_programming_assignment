{
 "cells": [
  {
   "attachments": {},
   "cell_type": "markdown",
   "metadata": {},
   "source": [
    "- Question1\n",
    "\n",
    "<B>Create a function that takes a list of strings and integers, and filters out the list so that it\n",
    "returns a list of integers only.\n",
    "- Examples\n",
    ">- filter_list([1, 2, 3, &quot;a&quot;, &quot;b&quot;, 4]) ➞ [1, 2, 3, 4]\n",
    ">- filter_list([&quot;A&quot;, 0, &quot;Edabit&quot;, 1729, &quot;Python&quot;, &quot;1729&quot;]) ➞ [0, 1729]\n",
    ">- filter_list([&quot;Nothing&quot;, &quot;here&quot;]) ➞ []"
   ]
  },
  {
   "cell_type": "code",
   "execution_count": 1,
   "metadata": {},
   "outputs": [
    {
     "name": "stdout",
     "output_type": "stream",
     "text": [
      "[1, 2, 3, 4]\n"
     ]
    }
   ],
   "source": [
    "def filter_list(l):\n",
    "    return [i for i in l if type(i) == int]\n",
    "\n",
    "print(filter_list([1,2,3,\"a\",\"b\",4]))"
   ]
  },
  {
   "attachments": {},
   "cell_type": "markdown",
   "metadata": {},
   "source": [
    "- Question2\n",
    "\n",
    "<b> Given a list of numbers, create a function which returns the list but with each element&#39;s\n",
    "index in the list added to itself. This means you add 0 to the number at index 0, add 1 to the\n",
    "number at index 1, etc...\n",
    "\n",
    "- Examples\n",
    "\n",
    ">- add_indexes([0, 0, 0, 0, 0]) ➞ [0, 1, 2, 3, 4]\n",
    ">- add_indexes([1, 2, 3, 4, 5]) ➞ [1, 3, 5, 7, 9]\n",
    ">- add_indexes([5, 4, 3, 2, 1]) ➞ [5, 5, 5, 5, 5]"
   ]
  },
  {
   "cell_type": "code",
   "execution_count": 6,
   "metadata": {},
   "outputs": [
    {
     "name": "stdout",
     "output_type": "stream",
     "text": [
      "[0, 1, 2, 3, 4]\n",
      "[1, 3, 5, 7, 9]\n",
      "[5, 5, 5, 5, 5]\n"
     ]
    }
   ],
   "source": [
    "def add_indexes(l):\n",
    "    return[l[ind]+ind for ind in range(len(l))]\n",
    "\n",
    "print(add_indexes([0,0,0,0,0]))\n",
    "print(add_indexes([1,2,3,4,5]))\n",
    "print(add_indexes([5,4,3,2,1]))"
   ]
  },
  {
   "attachments": {},
   "cell_type": "markdown",
   "metadata": {},
   "source": [
    "- Question3\n",
    "\n",
    "<b>Create a function that takes the height and radius of a cone as arguments and returns the\n",
    "volume of the cone rounded to the nearest hundredth. See the resources tab for the formula.\n",
    "\n",
    "- Examples\n",
    "\n",
    ">- cone_volume(3, 2) ➞ 12.57\n",
    "\n",
    ">- cone_volume(15, 6) ➞ 565.49\n",
    ">- cone_volume(18, 0) ➞ 0"
   ]
  },
  {
   "cell_type": "code",
   "execution_count": 13,
   "metadata": {},
   "outputs": [
    {
     "name": "stdout",
     "output_type": "stream",
     "text": [
      "12.57\n",
      "565.49\n",
      "0.0\n"
     ]
    }
   ],
   "source": [
    "import math\n",
    "def cone_volume(h, r):\n",
    "    return round(math.pi*(r**2) * (h/3), 2)\n",
    "\n",
    "print(cone_volume(3,2))\n",
    "print(cone_volume(15,6))\n",
    "print(cone_volume(18, 0))"
   ]
  },
  {
   "attachments": {},
   "cell_type": "markdown",
   "metadata": {},
   "source": [
    "- Question4\n",
    "\n",
    "<b>This Triangular Number Sequence is generated from a pattern of dots that form a triangle.\n",
    "The first 5 numbers of the sequence, or dots, are:\n",
    "\n",
    ">- 1, 3, 6, 10, 15\n",
    "\n",
    ">- This means that the first triangle has just one dot, the second one has three dots, the third one\n",
    "has 6 dots and so on.\n",
    ">- Write a function that gives the number of dots with its corresponding triangle number of the\n",
    "sequence.\n",
    "\n",
    "- Examples\n",
    ">- triangle(1) ➞ 1\n",
    ">- triangle(6) ➞ 21\n",
    ">- triangle(215) ➞ 23220"
   ]
  },
  {
   "cell_type": "code",
   "execution_count": 24,
   "metadata": {},
   "outputs": [
    {
     "name": "stdout",
     "output_type": "stream",
     "text": [
      "1\n",
      "21\n",
      "23220\n"
     ]
    }
   ],
   "source": [
    "def triangle(n):\n",
    "    dots = 0\n",
    "    for i in range(1, n+1):\n",
    "        dots += i\n",
    "    return dots\n",
    "\n",
    "print(triangle(1))\n",
    "print(triangle(6))\n",
    "print(triangle(215))"
   ]
  },
  {
   "attachments": {},
   "cell_type": "markdown",
   "metadata": {},
   "source": [
    "- Question5\n",
    "\n",
    "<b>Create a function that takes a list of numbers between 1 and 10 (excluding one number) and\n",
    "returns the missing number.\n",
    "\n",
    "- Examples\n",
    "\n",
    ">- missing_num([1, 2, 3, 4, 6, 7, 8, 9, 10]) ➞ 5\n",
    ">- missing_num([7, 2, 3, 6, 5, 9, 1, 4, 8]) ➞ 10\n",
    ">- missing_num([10, 5, 1, 2, 4, 6, 8, 3, 9]) ➞ 7"
   ]
  },
  {
   "cell_type": "code",
   "execution_count": 23,
   "metadata": {},
   "outputs": [
    {
     "name": "stdout",
     "output_type": "stream",
     "text": [
      "5\n",
      "10\n",
      "7\n"
     ]
    }
   ],
   "source": [
    "def missing_num(l):\n",
    "    for i in range(1, 11):\n",
    "        if i in l:\n",
    "            pass\n",
    "        else:\n",
    "            return i\n",
    "print(missing_num([1,2,3,4,6,7,8,9,10]))\n",
    "print(missing_num([1,2,3,4,5,6,7,8,9]))\n",
    "print(missing_num([1,2,3,4,5,6,8,9,10]))"
   ]
  }
 ],
 "metadata": {
  "kernelspec": {
   "display_name": "Python 3",
   "language": "python",
   "name": "python3"
  },
  "language_info": {
   "codemirror_mode": {
    "name": "ipython",
    "version": 3
   },
   "file_extension": ".py",
   "mimetype": "text/x-python",
   "name": "python",
   "nbconvert_exporter": "python",
   "pygments_lexer": "ipython3",
   "version": "3.10.10"
  },
  "orig_nbformat": 4
 },
 "nbformat": 4,
 "nbformat_minor": 2
}
