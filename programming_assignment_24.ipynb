{
 "cells": [
  {
   "attachments": {},
   "cell_type": "markdown",
   "metadata": {},
   "source": [
    "- Question1\n",
    "\n",
    "<b> Create a function that takes an integer and returns a list from 1 to the given number, where:\n",
    ">- 1. If the number can be divided evenly by 4, amplify it by 10 (i.e. return 10 times the\n",
    "number).\n",
    ">- 2. If the number cannot be divided evenly by 4, simply return the number.\n",
    "\n",
    "- Examples\n",
    ">- amplify(4) ➞ [1, 2, 3, 40]\n",
    ">- amplify(3) ➞ [1, 2, 3]\n",
    ">- amplify(25) ➞ [1, 2, 3, 40, 5, 6, 7, 80, 9, 10, 11, 120, 13, 14, 15, 160,\n",
    "17, 18, 19, 200, 21, 22, 23, 240, 25]\n",
    "\n",
    "- Notes\n",
    ">- The given integer will always be equal to or greater than 1.\n",
    ">- Include the number (see example above).\n",
    ">- To perform this problem with its intended purpose, try doing it with list\n",
    "comprehensions. If that&#39;s too difficult, just solve the challenge any way you can."
   ]
  },
  {
   "cell_type": "code",
   "execution_count": 38,
   "metadata": {},
   "outputs": [
    {
     "name": "stdout",
     "output_type": "stream",
     "text": [
      "1, 2, 3, 40, \n",
      "1, 2, 3, \n",
      "1, 2, 3, 40, 5, 6, 7, 80, 9, 10, 11, 120, 13, 14, 15, 160, 17, 18, 19, 200, 21, 22, 23, 240, 25, \n"
     ]
    }
   ],
   "source": [
    "def amplify(n):\n",
    "    for i in range(1, n+1):\n",
    "        if(i%4 == 0):\n",
    "            yield i*10\n",
    "        else:\n",
    "            yield i\n",
    "    print()\n",
    "\n",
    "for i in amplify(4):\n",
    "    print(i, end=\", \")\n",
    "for i in amplify(3):\n",
    "    print(i, end=\", \")\n",
    "for i in amplify(25):\n",
    "    print(i, end=\", \")\n"
   ]
  },
  {
   "attachments": {},
   "cell_type": "markdown",
   "metadata": {},
   "source": [
    "- Question2\n",
    "\n",
    "<b> Create a function that takes a list of numbers and return the number that&#39;s unique.\n",
    "\n",
    "- Examples\n",
    ">- unique([3, 3, 3, 7, 3, 3]) ➞ 7\n",
    ">- unique([0, 0, 0.77, 0, 0]) ➞ 0.77\n",
    ">- unique([0, 1, 1, 1, 1, 1, 1, 1]) ➞ 0\n",
    "- Notes\n",
    ">- Test cases will always have exactly one unique number while all others are the same."
   ]
  },
  {
   "cell_type": "code",
   "execution_count": 1,
   "metadata": {},
   "outputs": [
    {
     "name": "stdout",
     "output_type": "stream",
     "text": [
      "7\n"
     ]
    }
   ],
   "source": [
    "def unique(n):\n",
    "    for i in n:\n",
    "        if n.count(i) == 1:\n",
    "            return i\n",
    "print(unique([3,3,3,7,3,3]))"
   ]
  },
  {
   "attachments": {},
   "cell_type": "markdown",
   "metadata": {},
   "source": [
    "- Question3\n",
    "\n",
    "<b> Your task is to create a Circle constructor that creates a circle with a radius provided by an\n",
    "argument. The circles constructed must have two getters getArea() (PIr^2) and\n",
    "getPerimeter() (2PI*r) which give both respective areas and perimeter (circumference).\n",
    "\n",
    ">- For help with this class, I have provided you with a Rectangle constructor which you can use\n",
    "as a base example.\n",
    "\n",
    "- Examples\n",
    ">- circy = Circle(11)\n",
    ">- circy.getArea()\n",
    ">- \\# Should return 380.132711084365\n",
    ">- circy = Circle(4.44)\n",
    ">- circy.getPerimeter()\n",
    ">- \\# Should return 27.897342763877365\n",
    "- Notes\n",
    ">- Round results up to the nearest integer."
   ]
  },
  {
   "cell_type": "code",
   "execution_count": 8,
   "metadata": {},
   "outputs": [
    {
     "name": "stdout",
     "output_type": "stream",
     "text": [
      "380.132711084365\n",
      "27.883200000000002\n"
     ]
    }
   ],
   "source": [
    "import math\n",
    "class Circle:\n",
    "    def __init__(self, radius):\n",
    "        self.radius = radius \n",
    "    \n",
    "    def getArea(self):\n",
    "        return (math.pi)*(self.radius**2)\n",
    "    \n",
    "    def getPerimeter(self):\n",
    "        return 2*(3.14)*(self.radius)\n",
    "    \n",
    "circy = Circle(11)\n",
    "print(circy.getArea())\n",
    "circy = Circle(4.44)\n",
    "print(circy.getPerimeter())\n"
   ]
  },
  {
   "attachments": {},
   "cell_type": "markdown",
   "metadata": {},
   "source": [
    "- Question4\n",
    "\n",
    "<b>Create a function that takes a list of strings and return a list, sorted from shortest to longest.\n",
    "\n",
    "- Examples\n",
    ">- sort_by_length([&quot;Google&quot;, &quot;Apple&quot;, &quot;Microsoft&quot;])\n",
    ">- ➞ [&quot;Apple&quot;, &quot;Google&quot;, &quot;Microsoft&quot;]\n",
    ">- sort_by_length([&quot;Leonardo&quot;, &quot;Michelangelo&quot;, &quot;Raphael&quot;, &quot;Donatello&quot;])\n",
    ">- ➞ [&quot;Raphael&quot;, &quot;Leonardo&quot;, &quot;Donatello&quot;, &quot;Michelangelo&quot;]\n",
    ">- sort_by_length([&quot;Turing&quot;, &quot;Einstein&quot;, &quot;Jung&quot;])\n",
    ">- ➞ [&quot;Jung&quot;, &quot;Turing&quot;, &quot;Einstein&quot;]\n",
    "- Notes\n",
    ">- All test cases contain lists with strings of different lengths, so you won&#39;t have to deal with\n",
    "multiple strings of the same length."
   ]
  },
  {
   "cell_type": "code",
   "execution_count": 13,
   "metadata": {},
   "outputs": [
    {
     "name": "stdout",
     "output_type": "stream",
     "text": [
      "['Apple', 'Google', 'Microsoft']\n",
      "['Raphel', 'Leonardo', 'Donatello', 'Michelangelo']\n"
     ]
    }
   ],
   "source": [
    "def sort_by_length(arr):    \n",
    "    return sorted(arr, key=len)\n",
    "\n",
    "print(sort_by_length([\"Google\", \"Apple\", \"Microsoft\"]))\n",
    "print(sort_by_length([\"Leonardo\", \"Michelangelo\", \"Raphel\", \"Donatello\"]))"
   ]
  },
  {
   "attachments": {},
   "cell_type": "markdown",
   "metadata": {},
   "source": [
    "- Question5\n",
    "\n",
    "<b>Create a function that validates whether three given integers form a Pythagorean triplet. The\n",
    "sum of the squares of the two smallest integers must equal the square of the largest number to\n",
    "be validated.\n",
    "\n",
    "- Examples\n",
    ">- is_triplet(3, 4, 5) ➞ True\n",
    ">- \\# 3² + 4² = 25\n",
    ">- \\# 5² = 25\n",
    ">- is_triplet(13, 5, 12) ➞ True\n",
    ">- \\# 5² + 12² = 169\n",
    ">- \\# 13² = 169\n",
    ">- is_triplet(1, 2, 3) ➞ False\n",
    ">- \\# 1² + 2² = 5\n",
    ">- \\# 3² = 9\n",
    "- Notes\n",
    ">- Numbers may not be given in a sorted order."
   ]
  },
  {
   "cell_type": "code",
   "execution_count": 21,
   "metadata": {},
   "outputs": [
    {
     "name": "stdout",
     "output_type": "stream",
     "text": [
      "True\n",
      "True\n",
      "False\n"
     ]
    }
   ],
   "source": [
    "def is_triplet(a, b, c):\n",
    "    arr = [a, b, c]\n",
    "    arr.sort()\n",
    "    sum = (arr[0] ** 2 )+ (arr[1] ** 2)\n",
    "    c1 = arr[2] ** 2\n",
    "    print(c1 == sum)\n",
    "\n",
    "is_triplet(3,4,5)\n",
    "is_triplet(13, 5, 12)\n",
    "is_triplet(1,2,3)\n"
   ]
  }
 ],
 "metadata": {
  "kernelspec": {
   "display_name": "Python 3",
   "language": "python",
   "name": "python3"
  },
  "language_info": {
   "codemirror_mode": {
    "name": "ipython",
    "version": 3
   },
   "file_extension": ".py",
   "mimetype": "text/x-python",
   "name": "python",
   "nbconvert_exporter": "python",
   "pygments_lexer": "ipython3",
   "version": "3.10.10"
  },
  "orig_nbformat": 4
 },
 "nbformat": 4,
 "nbformat_minor": 2
}
