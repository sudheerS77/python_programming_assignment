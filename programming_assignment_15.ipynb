{
 "cells": [
  {
   "attachments": {},
   "cell_type": "markdown",
   "metadata": {},
   "source": [
    "- Question 1:\n",
    "\n",
    "> Please write a program using generator to print the numbers which can be divisible by 5 and\n",
    "7 between 0 and n in comma separated form while n is input by console.\n",
    "\n",
    "- Example:\n",
    "\n",
    ">- If the following n is given as input to the program:\n",
    "100\n",
    "\n",
    ">- Then, the output of the program should be:\n",
    "0,35,70"
   ]
  },
  {
   "cell_type": "code",
   "execution_count": 14,
   "metadata": {},
   "outputs": [
    {
     "name": "stdout",
     "output_type": "stream",
     "text": [
      "0,35,70,"
     ]
    }
   ],
   "source": [
    "n = int(input(\"enter the range\"))\n",
    "def d_5_7(num):\n",
    "    for i in range(0, num):\n",
    "        if (i%5 == 0 and i%7 == 0):\n",
    "            yield i\n",
    "for i in d_5_7(n):\n",
    "    print(i, end=\",\")"
   ]
  },
  {
   "attachments": {},
   "cell_type": "markdown",
   "metadata": {},
   "source": [
    "- Question 2:\n",
    "\n",
    "> Please write a program using generator to print the even numbers between 0 and n in comma\n",
    "separated form while n is input by console.\n",
    "\n",
    "- Example:\n",
    ">- If the following n is given as input to the program:\n",
    "10\n",
    "\n",
    ">- Then, the output of the program should be:\n",
    "0,2,4,6,8,10"
   ]
  },
  {
   "cell_type": "code",
   "execution_count": 16,
   "metadata": {},
   "outputs": [
    {
     "name": "stdout",
     "output_type": "stream",
     "text": [
      "0,2,4,6,8,10,"
     ]
    }
   ],
   "source": [
    "n = int(input(\"enter the range\"))\n",
    "def d_5_7(num):\n",
    "    for i in range(0, num+1):\n",
    "        if i%2==0:\n",
    "            yield i\n",
    "for i in d_5_7(n):\n",
    "    print(i, end=\",\")"
   ]
  },
  {
   "attachments": {},
   "cell_type": "markdown",
   "metadata": {},
   "source": [
    "- Question 3:\n",
    "\n",
    "> The Fibonacci Sequence is computed based on the following formula:\n",
    ">- f(n)=0 if n=0\n",
    ">- f(n)=1 if n=1\n",
    ">- f(n)=f(n-1)+f(n-2) if n&gt;1\n",
    ">- Please write a program using list comprehension to print the Fibonacci Sequence in comma\n",
    "separated form with a given n input by console.\n",
    "\n",
    "- Example:\n",
    "\n",
    ">- If the following n is given as input to the program:\n",
    "7\n",
    "\n",
    ">- Then, the output of the program should be:\n",
    "0,1,1,2,3,5,8,13"
   ]
  },
  {
   "cell_type": "code",
   "execution_count": 29,
   "metadata": {},
   "outputs": [
    {
     "name": "stdout",
     "output_type": "stream",
     "text": [
      "[0, 1, 1, 2, 3, 5, 8, 13]\n"
     ]
    }
   ],
   "source": [
    "def fibonacci_nums(n):\n",
    "  if n <= 0:\n",
    "    return [0]\n",
    "  sequence = [0, 1]\n",
    "  while len(sequence) <= n:\n",
    "    next_value = sequence[len(sequence) - 1] + sequence[len(sequence) - 2]\n",
    "    sequence.append(next_value)\n",
    "  return sequence\n",
    "\n",
    "print(fibonacci_nums(7))"
   ]
  },
  {
   "attachments": {},
   "cell_type": "markdown",
   "metadata": {},
   "source": [
    "- Question 4:\n",
    "\n",
    "> Assuming that we have some email addresses in the &quot;username@companyname.com&quot; format,\n",
    "please write program to print the user name of a given email address. Both user names and\n",
    "company names are composed of letters only.\n",
    "\n",
    "- Example:\n",
    ">- If the following email address is given as input to the program:\n",
    "\n",
    ">- john@google.com\n",
    "\n",
    ">- Then, the output of the program should be:\n",
    "john"
   ]
  },
  {
   "cell_type": "code",
   "execution_count": 43,
   "metadata": {},
   "outputs": [
    {
     "name": "stdout",
     "output_type": "stream",
     "text": [
      "john\n"
     ]
    }
   ],
   "source": [
    "import re\n",
    "\n",
    "emailAddress = \"john@googl.com\" \n",
    "pat2 = \"(\\w+)@((\\w+\\.)+(com))\"\n",
    "\n",
    "r2 = re.match(pat2,emailAddress)\n",
    "print(r2.group(1))"
   ]
  },
  {
   "attachments": {},
   "cell_type": "markdown",
   "metadata": {},
   "source": [
    "- Question 5:\n",
    "\n",
    "> Define a class named Shape and its subclass Square. The Square class has an init function\n",
    "which takes a length as argument. Both classes have a area function which can print the area\n",
    "of the shape where Shape&#39;s area is 0 by default."
   ]
  },
  {
   "cell_type": "code",
   "execution_count": 47,
   "metadata": {},
   "outputs": [
    {
     "name": "stdout",
     "output_type": "stream",
     "text": [
      "Area of Square is 16\n"
     ]
    }
   ],
   "source": [
    "class Shape:\n",
    "    def area():\n",
    "        print(f\"Area : 0\")\n",
    "\n",
    "class Square:\n",
    "    def __init__(self, length):\n",
    "        self.length = length\n",
    "    def area(self):\n",
    "        area_value = self.length * self.length\n",
    "        print(f'Area of Square is {area_value}')\n",
    "\n",
    "s = Square(4)\n",
    "s.area()"
   ]
  }
 ],
 "metadata": {
  "kernelspec": {
   "display_name": "Python 3",
   "language": "python",
   "name": "python3"
  },
  "language_info": {
   "codemirror_mode": {
    "name": "ipython",
    "version": 3
   },
   "file_extension": ".py",
   "mimetype": "text/x-python",
   "name": "python",
   "nbconvert_exporter": "python",
   "pygments_lexer": "ipython3",
   "version": "3.10.10"
  },
  "orig_nbformat": 4
 },
 "nbformat": 4,
 "nbformat_minor": 2
}
